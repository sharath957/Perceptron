{
  "nbformat": 4,
  "nbformat_minor": 0,
  "metadata": {
    "colab": {
      "name": "11/09 .ipynb",
      "provenance": [],
      "collapsed_sections": []
    },
    "kernelspec": {
      "name": "python3",
      "display_name": "Python 3"
    },
    "language_info": {
      "name": "python"
    }
  },
  "cells": [
    {
      "cell_type": "code",
      "metadata": {
        "id": "UiAaPhuwtjTH"
      },
      "source": [
        "ROOT = '/content/drive/MyDrive/Colab Notebooks/ineuron live class working/Ineuron DL'"
      ],
      "execution_count": 1,
      "outputs": []
    },
    {
      "cell_type": "code",
      "metadata": {
        "id": "S33betutuXIj"
      },
      "source": [
        "import os \n",
        "\n",
        "\n",
        "os.chdir(ROOT)"
      ],
      "execution_count": 2,
      "outputs": []
    },
    {
      "cell_type": "code",
      "metadata": {
        "colab": {
          "base_uri": "https://localhost:8080/"
        },
        "id": "SHpx7vG9urwq",
        "outputId": "2dfc5dee-edbd-4106-bc54-80b290e3754f"
      },
      "source": [
        "!ls"
      ],
      "execution_count": 3,
      "outputs": [
        {
          "output_type": "stream",
          "name": "stdout",
          "text": [
            "'11 09 .ipynb'\t'Copy of 11 09 .ipynb'\t model\t plots\t test.txt\n"
          ]
        }
      ]
    },
    {
      "cell_type": "code",
      "metadata": {
        "id": "Xp8w0EfVuvDR"
      },
      "source": [
        "with open('test.txt','w') as f:\n",
        "  f.writelines('hello colab')"
      ],
      "execution_count": 4,
      "outputs": []
    },
    {
      "cell_type": "code",
      "metadata": {
        "id": "EpAf0qZ3vHpe"
      },
      "source": [
        "import matplotlib.pyplot as plt\n",
        "import numpy as np\n",
        "import pandas as pd\n",
        "import joblib # FOR SAVING MY MODEL AS A BINARY FILE\n",
        "from matplotlib.colors import ListedColormap\n",
        "\n",
        "plt.style.use(\"fivethirtyeight\") # THIS IS STYLE OF GRAPHS"
      ],
      "execution_count": 5,
      "outputs": []
    },
    {
      "cell_type": "code",
      "metadata": {
        "colab": {
          "base_uri": "https://localhost:8080/"
        },
        "id": "KsIhrFQ5uZon",
        "outputId": "8acb37b7-711a-4bd1-d23e-fdaee237ebe0"
      },
      "source": [
        "np.random.randn(3)  "
      ],
      "execution_count": 6,
      "outputs": [
        {
          "output_type": "execute_result",
          "data": {
            "text/plain": [
              "array([-0.36844007, -0.54496227, -0.32755462])"
            ]
          },
          "metadata": {},
          "execution_count": 6
        }
      ]
    },
    {
      "cell_type": "code",
      "metadata": {
        "colab": {
          "base_uri": "https://localhost:8080/"
        },
        "id": "-FOJD1xqxKFu",
        "outputId": "7e0ab7b9-5eef-4a05-a8ce-62766eb7569f"
      },
      "source": [
        "np.ones((3,1))"
      ],
      "execution_count": 7,
      "outputs": [
        {
          "output_type": "execute_result",
          "data": {
            "text/plain": [
              "array([[1.],\n",
              "       [1.],\n",
              "       [1.]])"
            ]
          },
          "metadata": {},
          "execution_count": 7
        }
      ]
    },
    {
      "cell_type": "code",
      "metadata": {
        "id": "Hk7Y9aI3vRnb"
      },
      "source": [
        "class perceptron:\n",
        "  def __init__(self,eta,epochs): \n",
        "    self.weights = np.random.randn(3) * 1e-4 # the 3 here is the three weights as per our theory. w0,w1,w2\n",
        "    print(f'Initial weights before training: \\n{self.weights}') # f here is called the f string method\n",
        "    self.eta = eta ## Learning rate\n",
        "    self.epochs = epochs\n",
        "    \n",
        "\n",
        "  def activationfunction(self,inputs,weights):\n",
        "    z = np.dot(inputs,weights) # z = W * X\n",
        "    return np.where(z > 0, 1, 0) \n",
        "\n",
        "\n",
        "  def fit(self,X,y):\n",
        "    self.X = X\n",
        "    self.y = y \n",
        "\n",
        "    X_with_bias = np.c_[self.X, -np.ones((len(self.X),1))] \n",
        "    print(f'X with bias:\\n {X_with_bias}') \n",
        "\n",
        "    for epoch in range(self.epochs):\n",
        "      print(\"--\"*10) \n",
        "      print(f'for epoch: {epoch}')\n",
        "      print('--'*10)\n",
        "\n",
        "      y_hat = self.activationfunction(X_with_bias,self.weights) # forward propogation\n",
        "      print(f'predicted value after forward pass: \\n{y_hat}')\n",
        "      self.error = self.y - y_hat\n",
        "      print(f'error: \\n{self.error}')  \n",
        "      self.weights =  self.weights + self.eta * np.dot(X_with_bias.T,self.error) # Backward propogation\n",
        "      print(f'updated weights after epcohs: \\n{epoch}/{self.epochs} :  \\n{self.weights}') \n",
        "      print('######'*3)  \n",
        "\n",
        "  def predict(self,X):\n",
        "    X_with_bias = np.c_[X, -np.ones((len(X),1))] \n",
        "    return self.activationfunction(X_with_bias,self.weights)\n",
        "      \n",
        "  def total_loss(self):\n",
        "    total_loss = np.sum(self.error)\n",
        "    print(f'total loss: {total_loss}')\n",
        "    return total_loss\n"
      ],
      "execution_count": 8,
      "outputs": []
    },
    {
      "cell_type": "markdown",
      "metadata": {
        "id": "qpc4SQX75VMe"
      },
      "source": [
        "eta above is the learning rate.\n",
        "\n",
        "\n",
        "The def activation function will take the inputs and weights. we are defining the inputs and weights here\n",
        "\n",
        "\n",
        "def fit is the fit method we use in ML this is same. where we are giving the X and y to fit a model.\n",
        "\n",
        "\n",
        "def predict is to predict the X "
      ]
    },
    {
      "cell_type": "code",
      "metadata": {
        "id": "uAEz12AkxIlE"
      },
      "source": [
        "def prepare_data(df):\n",
        "  X  = df.drop('y',axis = 1)\n",
        "  y = df['y']\n",
        "  return X, y"
      ],
      "execution_count": 9,
      "outputs": []
    },
    {
      "cell_type": "markdown",
      "metadata": {
        "id": "t8V_REiz6Jgy"
      },
      "source": [
        "**AND**"
      ]
    },
    {
      "cell_type": "code",
      "metadata": {
        "colab": {
          "base_uri": "https://localhost:8080/",
          "height": 175
        },
        "id": "LjNWNxDe4Uz6",
        "outputId": "4d8e30d6-454a-4867-90b7-efe85982ca7a"
      },
      "source": [
        "AND = {\n",
        "    'x1':[0,0,1,1],\n",
        "    'x2':[0,1,0,1],\n",
        "    'y':[0,0,0,1],\n",
        "}\n",
        "\n",
        "df = pd.DataFrame(AND)\n",
        "df\n"
      ],
      "execution_count": 10,
      "outputs": [
        {
          "output_type": "execute_result",
          "data": {
            "text/html": [
              "<div>\n",
              "<style scoped>\n",
              "    .dataframe tbody tr th:only-of-type {\n",
              "        vertical-align: middle;\n",
              "    }\n",
              "\n",
              "    .dataframe tbody tr th {\n",
              "        vertical-align: top;\n",
              "    }\n",
              "\n",
              "    .dataframe thead th {\n",
              "        text-align: right;\n",
              "    }\n",
              "</style>\n",
              "<table border=\"1\" class=\"dataframe\">\n",
              "  <thead>\n",
              "    <tr style=\"text-align: right;\">\n",
              "      <th></th>\n",
              "      <th>x1</th>\n",
              "      <th>x2</th>\n",
              "      <th>y</th>\n",
              "    </tr>\n",
              "  </thead>\n",
              "  <tbody>\n",
              "    <tr>\n",
              "      <th>0</th>\n",
              "      <td>0</td>\n",
              "      <td>0</td>\n",
              "      <td>0</td>\n",
              "    </tr>\n",
              "    <tr>\n",
              "      <th>1</th>\n",
              "      <td>0</td>\n",
              "      <td>1</td>\n",
              "      <td>0</td>\n",
              "    </tr>\n",
              "    <tr>\n",
              "      <th>2</th>\n",
              "      <td>1</td>\n",
              "      <td>0</td>\n",
              "      <td>0</td>\n",
              "    </tr>\n",
              "    <tr>\n",
              "      <th>3</th>\n",
              "      <td>1</td>\n",
              "      <td>1</td>\n",
              "      <td>1</td>\n",
              "    </tr>\n",
              "  </tbody>\n",
              "</table>\n",
              "</div>"
            ],
            "text/plain": [
              "   x1  x2  y\n",
              "0   0   0  0\n",
              "1   0   1  0\n",
              "2   1   0  0\n",
              "3   1   1  1"
            ]
          },
          "metadata": {},
          "execution_count": 10
        }
      ]
    },
    {
      "cell_type": "code",
      "metadata": {
        "colab": {
          "base_uri": "https://localhost:8080/"
        },
        "id": "HgtmPHllszP6",
        "outputId": "155e3ae2-9d48-4efa-8c5b-ed935223893d"
      },
      "source": [
        "X,y = prepare_data(df)\n",
        "\n",
        "ETA = 0.3 # 0 and 1\n",
        "EPOCHS = 10\n",
        "\n",
        "model = perceptron(eta=ETA, epochs=EPOCHS)\n",
        "model.fit(X, y)\n",
        "\n",
        "_ = model.total_loss()"
      ],
      "execution_count": 11,
      "outputs": [
        {
          "output_type": "stream",
          "name": "stdout",
          "text": [
            "Initial weights before training: \n",
            "[-2.21604937e-05  3.93993405e-05  5.87024884e-05]\n",
            "X with bias:\n",
            " [[ 0.  0. -1.]\n",
            " [ 0.  1. -1.]\n",
            " [ 1.  0. -1.]\n",
            " [ 1.  1. -1.]]\n",
            "--------------------\n",
            "for epoch: 0\n",
            "--------------------\n",
            "predicted value after forward pass: \n",
            "[0 0 0 0]\n",
            "error: \n",
            "0    0\n",
            "1    0\n",
            "2    0\n",
            "3    1\n",
            "Name: y, dtype: int64\n",
            "updated weights after epcohs: \n",
            "0/10 :  \n",
            "[ 0.29997784  0.3000394  -0.2999413 ]\n",
            "##################\n",
            "--------------------\n",
            "for epoch: 1\n",
            "--------------------\n",
            "predicted value after forward pass: \n",
            "[1 1 1 1]\n",
            "error: \n",
            "0   -1\n",
            "1   -1\n",
            "2   -1\n",
            "3    0\n",
            "Name: y, dtype: int64\n",
            "updated weights after epcohs: \n",
            "1/10 :  \n",
            "[-2.21604937e-05  3.93993405e-05  6.00058702e-01]\n",
            "##################\n",
            "--------------------\n",
            "for epoch: 2\n",
            "--------------------\n",
            "predicted value after forward pass: \n",
            "[0 0 0 0]\n",
            "error: \n",
            "0    0\n",
            "1    0\n",
            "2    0\n",
            "3    1\n",
            "Name: y, dtype: int64\n",
            "updated weights after epcohs: \n",
            "2/10 :  \n",
            "[0.29997784 0.3000394  0.3000587 ]\n",
            "##################\n",
            "--------------------\n",
            "for epoch: 3\n",
            "--------------------\n",
            "predicted value after forward pass: \n",
            "[0 0 0 1]\n",
            "error: \n",
            "0    0\n",
            "1    0\n",
            "2    0\n",
            "3    0\n",
            "Name: y, dtype: int64\n",
            "updated weights after epcohs: \n",
            "3/10 :  \n",
            "[0.29997784 0.3000394  0.3000587 ]\n",
            "##################\n",
            "--------------------\n",
            "for epoch: 4\n",
            "--------------------\n",
            "predicted value after forward pass: \n",
            "[0 0 0 1]\n",
            "error: \n",
            "0    0\n",
            "1    0\n",
            "2    0\n",
            "3    0\n",
            "Name: y, dtype: int64\n",
            "updated weights after epcohs: \n",
            "4/10 :  \n",
            "[0.29997784 0.3000394  0.3000587 ]\n",
            "##################\n",
            "--------------------\n",
            "for epoch: 5\n",
            "--------------------\n",
            "predicted value after forward pass: \n",
            "[0 0 0 1]\n",
            "error: \n",
            "0    0\n",
            "1    0\n",
            "2    0\n",
            "3    0\n",
            "Name: y, dtype: int64\n",
            "updated weights after epcohs: \n",
            "5/10 :  \n",
            "[0.29997784 0.3000394  0.3000587 ]\n",
            "##################\n",
            "--------------------\n",
            "for epoch: 6\n",
            "--------------------\n",
            "predicted value after forward pass: \n",
            "[0 0 0 1]\n",
            "error: \n",
            "0    0\n",
            "1    0\n",
            "2    0\n",
            "3    0\n",
            "Name: y, dtype: int64\n",
            "updated weights after epcohs: \n",
            "6/10 :  \n",
            "[0.29997784 0.3000394  0.3000587 ]\n",
            "##################\n",
            "--------------------\n",
            "for epoch: 7\n",
            "--------------------\n",
            "predicted value after forward pass: \n",
            "[0 0 0 1]\n",
            "error: \n",
            "0    0\n",
            "1    0\n",
            "2    0\n",
            "3    0\n",
            "Name: y, dtype: int64\n",
            "updated weights after epcohs: \n",
            "7/10 :  \n",
            "[0.29997784 0.3000394  0.3000587 ]\n",
            "##################\n",
            "--------------------\n",
            "for epoch: 8\n",
            "--------------------\n",
            "predicted value after forward pass: \n",
            "[0 0 0 1]\n",
            "error: \n",
            "0    0\n",
            "1    0\n",
            "2    0\n",
            "3    0\n",
            "Name: y, dtype: int64\n",
            "updated weights after epcohs: \n",
            "8/10 :  \n",
            "[0.29997784 0.3000394  0.3000587 ]\n",
            "##################\n",
            "--------------------\n",
            "for epoch: 9\n",
            "--------------------\n",
            "predicted value after forward pass: \n",
            "[0 0 0 1]\n",
            "error: \n",
            "0    0\n",
            "1    0\n",
            "2    0\n",
            "3    0\n",
            "Name: y, dtype: int64\n",
            "updated weights after epcohs: \n",
            "9/10 :  \n",
            "[0.29997784 0.3000394  0.3000587 ]\n",
            "##################\n",
            "total loss: 0\n"
          ]
        }
      ]
    },
    {
      "cell_type": "code",
      "metadata": {
        "id": "4doywAiD7X3e",
        "colab": {
          "base_uri": "https://localhost:8080/"
        },
        "outputId": "1dab59ed-5249-42de-cff4-b7272bb0b06c"
      },
      "source": [
        "model.predict(X)"
      ],
      "execution_count": 12,
      "outputs": [
        {
          "output_type": "execute_result",
          "data": {
            "text/plain": [
              "array([0, 0, 0, 1])"
            ]
          },
          "metadata": {},
          "execution_count": 12
        }
      ]
    },
    {
      "cell_type": "code",
      "metadata": {
        "colab": {
          "base_uri": "https://localhost:8080/"
        },
        "id": "jztNyPM3vMzT",
        "outputId": "102764df-c084-44f2-cbe9-facced327e13"
      },
      "source": [
        "inputs = np.array([[1,1],[0,1]])\n",
        "model.predict(inputs)"
      ],
      "execution_count": 13,
      "outputs": [
        {
          "output_type": "execute_result",
          "data": {
            "text/plain": [
              "array([1, 0])"
            ]
          },
          "metadata": {},
          "execution_count": 13
        }
      ]
    },
    {
      "cell_type": "code",
      "metadata": {
        "id": "fKLxQoGOwgfp"
      },
      "source": [
        "def save_model(model,filename):\n",
        "  model_dir = 'model'\n",
        "  os.makedirs(model_dir,exist_ok=True) # ONLY CREATE IF MODEL DIRECTORY DOESNT EXIST\n",
        "  filePath = os.path.join(model_dir,filename) # model/finalname\n",
        "  joblib.dump(model,filePath)"
      ],
      "execution_count": 14,
      "outputs": []
    },
    {
      "cell_type": "code",
      "metadata": {
        "id": "HHJz8ZyMxTXh"
      },
      "source": [
        "save_model(model,'and.model')"
      ],
      "execution_count": 15,
      "outputs": []
    },
    {
      "cell_type": "code",
      "metadata": {
        "colab": {
          "base_uri": "https://localhost:8080/"
        },
        "id": "VJP6ioxtx20J",
        "outputId": "6b490894-8513-4f18-e0a5-8a5d720cb1e6"
      },
      "source": [
        "loaded_model = joblib.load('model/and.model')\n",
        "\n",
        "loaded_model.predict(inputs)"
      ],
      "execution_count": 16,
      "outputs": [
        {
          "output_type": "execute_result",
          "data": {
            "text/plain": [
              "array([1, 0])"
            ]
          },
          "metadata": {},
          "execution_count": 16
        }
      ]
    },
    {
      "cell_type": "markdown",
      "metadata": {
        "id": "v4wjIbl8ypkK"
      },
      "source": [
        "**OR TYPE** "
      ]
    },
    {
      "cell_type": "code",
      "metadata": {
        "colab": {
          "base_uri": "https://localhost:8080/",
          "height": 175
        },
        "id": "XA7xYrtqx25F",
        "outputId": "b322472c-890d-4161-b97c-24a923e01bae"
      },
      "source": [
        "OR = {\n",
        "    'x1':[0,0,1,1],\n",
        "    'x2':[0,1,0,1],\n",
        "    'y':[0,1,1,1],\n",
        "}\n",
        "\n",
        "df = pd.DataFrame(OR)\n",
        "df"
      ],
      "execution_count": 17,
      "outputs": [
        {
          "output_type": "execute_result",
          "data": {
            "text/html": [
              "<div>\n",
              "<style scoped>\n",
              "    .dataframe tbody tr th:only-of-type {\n",
              "        vertical-align: middle;\n",
              "    }\n",
              "\n",
              "    .dataframe tbody tr th {\n",
              "        vertical-align: top;\n",
              "    }\n",
              "\n",
              "    .dataframe thead th {\n",
              "        text-align: right;\n",
              "    }\n",
              "</style>\n",
              "<table border=\"1\" class=\"dataframe\">\n",
              "  <thead>\n",
              "    <tr style=\"text-align: right;\">\n",
              "      <th></th>\n",
              "      <th>x1</th>\n",
              "      <th>x2</th>\n",
              "      <th>y</th>\n",
              "    </tr>\n",
              "  </thead>\n",
              "  <tbody>\n",
              "    <tr>\n",
              "      <th>0</th>\n",
              "      <td>0</td>\n",
              "      <td>0</td>\n",
              "      <td>0</td>\n",
              "    </tr>\n",
              "    <tr>\n",
              "      <th>1</th>\n",
              "      <td>0</td>\n",
              "      <td>1</td>\n",
              "      <td>1</td>\n",
              "    </tr>\n",
              "    <tr>\n",
              "      <th>2</th>\n",
              "      <td>1</td>\n",
              "      <td>0</td>\n",
              "      <td>1</td>\n",
              "    </tr>\n",
              "    <tr>\n",
              "      <th>3</th>\n",
              "      <td>1</td>\n",
              "      <td>1</td>\n",
              "      <td>1</td>\n",
              "    </tr>\n",
              "  </tbody>\n",
              "</table>\n",
              "</div>"
            ],
            "text/plain": [
              "   x1  x2  y\n",
              "0   0   0  0\n",
              "1   0   1  1\n",
              "2   1   0  1\n",
              "3   1   1  1"
            ]
          },
          "metadata": {},
          "execution_count": 17
        }
      ]
    },
    {
      "cell_type": "code",
      "metadata": {
        "colab": {
          "base_uri": "https://localhost:8080/"
        },
        "id": "8M1ixcz7zDew",
        "outputId": "cb3398af-dfe3-4fbe-8ca3-1510ba32f0ba"
      },
      "source": [
        "X,y = prepare_data(df)\n",
        "\n",
        "ETA = 0.3 # 0 and 1\n",
        "EPOCHS = 10\n",
        "\n",
        "model_OR = perceptron(eta=ETA, epochs=EPOCHS)\n",
        "model_OR.fit(X, y)\n",
        "\n",
        "_ = model_OR.total_loss()"
      ],
      "execution_count": 18,
      "outputs": [
        {
          "output_type": "stream",
          "name": "stdout",
          "text": [
            "Initial weights before training: \n",
            "[-4.03297026e-05 -5.74536129e-05 -1.35956533e-04]\n",
            "X with bias:\n",
            " [[ 0.  0. -1.]\n",
            " [ 0.  1. -1.]\n",
            " [ 1.  0. -1.]\n",
            " [ 1.  1. -1.]]\n",
            "--------------------\n",
            "for epoch: 0\n",
            "--------------------\n",
            "predicted value after forward pass: \n",
            "[1 1 1 1]\n",
            "error: \n",
            "0   -1\n",
            "1    0\n",
            "2    0\n",
            "3    0\n",
            "Name: y, dtype: int64\n",
            "updated weights after epcohs: \n",
            "0/10 :  \n",
            "[-4.03297026e-05 -5.74536129e-05  2.99864043e-01]\n",
            "##################\n",
            "--------------------\n",
            "for epoch: 1\n",
            "--------------------\n",
            "predicted value after forward pass: \n",
            "[0 0 0 0]\n",
            "error: \n",
            "0    0\n",
            "1    1\n",
            "2    1\n",
            "3    1\n",
            "Name: y, dtype: int64\n",
            "updated weights after epcohs: \n",
            "1/10 :  \n",
            "[ 0.59995967  0.59994255 -0.60013596]\n",
            "##################\n",
            "--------------------\n",
            "for epoch: 2\n",
            "--------------------\n",
            "predicted value after forward pass: \n",
            "[1 1 1 1]\n",
            "error: \n",
            "0   -1\n",
            "1    0\n",
            "2    0\n",
            "3    0\n",
            "Name: y, dtype: int64\n",
            "updated weights after epcohs: \n",
            "2/10 :  \n",
            "[ 0.59995967  0.59994255 -0.30013596]\n",
            "##################\n",
            "--------------------\n",
            "for epoch: 3\n",
            "--------------------\n",
            "predicted value after forward pass: \n",
            "[1 1 1 1]\n",
            "error: \n",
            "0   -1\n",
            "1    0\n",
            "2    0\n",
            "3    0\n",
            "Name: y, dtype: int64\n",
            "updated weights after epcohs: \n",
            "3/10 :  \n",
            "[ 5.99959670e-01  5.99942546e-01 -1.35956533e-04]\n",
            "##################\n",
            "--------------------\n",
            "for epoch: 4\n",
            "--------------------\n",
            "predicted value after forward pass: \n",
            "[1 1 1 1]\n",
            "error: \n",
            "0   -1\n",
            "1    0\n",
            "2    0\n",
            "3    0\n",
            "Name: y, dtype: int64\n",
            "updated weights after epcohs: \n",
            "4/10 :  \n",
            "[0.59995967 0.59994255 0.29986404]\n",
            "##################\n",
            "--------------------\n",
            "for epoch: 5\n",
            "--------------------\n",
            "predicted value after forward pass: \n",
            "[0 1 1 1]\n",
            "error: \n",
            "0    0\n",
            "1    0\n",
            "2    0\n",
            "3    0\n",
            "Name: y, dtype: int64\n",
            "updated weights after epcohs: \n",
            "5/10 :  \n",
            "[0.59995967 0.59994255 0.29986404]\n",
            "##################\n",
            "--------------------\n",
            "for epoch: 6\n",
            "--------------------\n",
            "predicted value after forward pass: \n",
            "[0 1 1 1]\n",
            "error: \n",
            "0    0\n",
            "1    0\n",
            "2    0\n",
            "3    0\n",
            "Name: y, dtype: int64\n",
            "updated weights after epcohs: \n",
            "6/10 :  \n",
            "[0.59995967 0.59994255 0.29986404]\n",
            "##################\n",
            "--------------------\n",
            "for epoch: 7\n",
            "--------------------\n",
            "predicted value after forward pass: \n",
            "[0 1 1 1]\n",
            "error: \n",
            "0    0\n",
            "1    0\n",
            "2    0\n",
            "3    0\n",
            "Name: y, dtype: int64\n",
            "updated weights after epcohs: \n",
            "7/10 :  \n",
            "[0.59995967 0.59994255 0.29986404]\n",
            "##################\n",
            "--------------------\n",
            "for epoch: 8\n",
            "--------------------\n",
            "predicted value after forward pass: \n",
            "[0 1 1 1]\n",
            "error: \n",
            "0    0\n",
            "1    0\n",
            "2    0\n",
            "3    0\n",
            "Name: y, dtype: int64\n",
            "updated weights after epcohs: \n",
            "8/10 :  \n",
            "[0.59995967 0.59994255 0.29986404]\n",
            "##################\n",
            "--------------------\n",
            "for epoch: 9\n",
            "--------------------\n",
            "predicted value after forward pass: \n",
            "[0 1 1 1]\n",
            "error: \n",
            "0    0\n",
            "1    0\n",
            "2    0\n",
            "3    0\n",
            "Name: y, dtype: int64\n",
            "updated weights after epcohs: \n",
            "9/10 :  \n",
            "[0.59995967 0.59994255 0.29986404]\n",
            "##################\n",
            "total loss: 0\n"
          ]
        }
      ]
    },
    {
      "cell_type": "markdown",
      "metadata": {
        "id": "l8ciHKnF0B-l"
      },
      "source": [
        "**XOR**"
      ]
    },
    {
      "cell_type": "code",
      "metadata": {
        "colab": {
          "base_uri": "https://localhost:8080/",
          "height": 175
        },
        "id": "Zc5zhv37z9Ax",
        "outputId": "dbe60b4d-4032-4401-b669-9cef2f148c96"
      },
      "source": [
        "XOR = {\n",
        "    'x1':[0,0,1,1],\n",
        "    'x2':[0,1,0,1],\n",
        "    'y':[0,1,1,0],\n",
        "}\n",
        "\n",
        "df = pd.DataFrame(XOR)\n",
        "df"
      ],
      "execution_count": 19,
      "outputs": [
        {
          "output_type": "execute_result",
          "data": {
            "text/html": [
              "<div>\n",
              "<style scoped>\n",
              "    .dataframe tbody tr th:only-of-type {\n",
              "        vertical-align: middle;\n",
              "    }\n",
              "\n",
              "    .dataframe tbody tr th {\n",
              "        vertical-align: top;\n",
              "    }\n",
              "\n",
              "    .dataframe thead th {\n",
              "        text-align: right;\n",
              "    }\n",
              "</style>\n",
              "<table border=\"1\" class=\"dataframe\">\n",
              "  <thead>\n",
              "    <tr style=\"text-align: right;\">\n",
              "      <th></th>\n",
              "      <th>x1</th>\n",
              "      <th>x2</th>\n",
              "      <th>y</th>\n",
              "    </tr>\n",
              "  </thead>\n",
              "  <tbody>\n",
              "    <tr>\n",
              "      <th>0</th>\n",
              "      <td>0</td>\n",
              "      <td>0</td>\n",
              "      <td>0</td>\n",
              "    </tr>\n",
              "    <tr>\n",
              "      <th>1</th>\n",
              "      <td>0</td>\n",
              "      <td>1</td>\n",
              "      <td>1</td>\n",
              "    </tr>\n",
              "    <tr>\n",
              "      <th>2</th>\n",
              "      <td>1</td>\n",
              "      <td>0</td>\n",
              "      <td>1</td>\n",
              "    </tr>\n",
              "    <tr>\n",
              "      <th>3</th>\n",
              "      <td>1</td>\n",
              "      <td>1</td>\n",
              "      <td>0</td>\n",
              "    </tr>\n",
              "  </tbody>\n",
              "</table>\n",
              "</div>"
            ],
            "text/plain": [
              "   x1  x2  y\n",
              "0   0   0  0\n",
              "1   0   1  1\n",
              "2   1   0  1\n",
              "3   1   1  0"
            ]
          },
          "metadata": {},
          "execution_count": 19
        }
      ]
    },
    {
      "cell_type": "code",
      "metadata": {
        "colab": {
          "base_uri": "https://localhost:8080/"
        },
        "id": "jFBfWwVrz9DB",
        "outputId": "839be015-6d0a-4c65-bd96-246b079567b0"
      },
      "source": [
        "X,y = prepare_data(df)\n",
        "\n",
        "ETA = 0.3 # 0 and 1\n",
        "EPOCHS = 10\n",
        "\n",
        "model_XOR = perceptron(eta=ETA, epochs=EPOCHS)\n",
        "model_XOR.fit(X, y)\n",
        "\n",
        "_ = model_XOR.total_loss()"
      ],
      "execution_count": 20,
      "outputs": [
        {
          "output_type": "stream",
          "name": "stdout",
          "text": [
            "Initial weights before training: \n",
            "[-6.21773353e-05  5.27016988e-05  1.51786638e-05]\n",
            "X with bias:\n",
            " [[ 0.  0. -1.]\n",
            " [ 0.  1. -1.]\n",
            " [ 1.  0. -1.]\n",
            " [ 1.  1. -1.]]\n",
            "--------------------\n",
            "for epoch: 0\n",
            "--------------------\n",
            "predicted value after forward pass: \n",
            "[0 1 0 0]\n",
            "error: \n",
            "0    0\n",
            "1    0\n",
            "2    1\n",
            "3    0\n",
            "Name: y, dtype: int64\n",
            "updated weights after epcohs: \n",
            "0/10 :  \n",
            "[ 2.99937823e-01  5.27016988e-05 -2.99984821e-01]\n",
            "##################\n",
            "--------------------\n",
            "for epoch: 1\n",
            "--------------------\n",
            "predicted value after forward pass: \n",
            "[1 1 1 1]\n",
            "error: \n",
            "0   -1\n",
            "1    0\n",
            "2    0\n",
            "3   -1\n",
            "Name: y, dtype: int64\n",
            "updated weights after epcohs: \n",
            "1/10 :  \n",
            "[-6.21773353e-05 -2.99947298e-01  3.00015179e-01]\n",
            "##################\n",
            "--------------------\n",
            "for epoch: 2\n",
            "--------------------\n",
            "predicted value after forward pass: \n",
            "[0 0 0 0]\n",
            "error: \n",
            "0    0\n",
            "1    1\n",
            "2    1\n",
            "3    0\n",
            "Name: y, dtype: int64\n",
            "updated weights after epcohs: \n",
            "2/10 :  \n",
            "[ 2.99937823e-01  5.27016988e-05 -2.99984821e-01]\n",
            "##################\n",
            "--------------------\n",
            "for epoch: 3\n",
            "--------------------\n",
            "predicted value after forward pass: \n",
            "[1 1 1 1]\n",
            "error: \n",
            "0   -1\n",
            "1    0\n",
            "2    0\n",
            "3   -1\n",
            "Name: y, dtype: int64\n",
            "updated weights after epcohs: \n",
            "3/10 :  \n",
            "[-6.21773353e-05 -2.99947298e-01  3.00015179e-01]\n",
            "##################\n",
            "--------------------\n",
            "for epoch: 4\n",
            "--------------------\n",
            "predicted value after forward pass: \n",
            "[0 0 0 0]\n",
            "error: \n",
            "0    0\n",
            "1    1\n",
            "2    1\n",
            "3    0\n",
            "Name: y, dtype: int64\n",
            "updated weights after epcohs: \n",
            "4/10 :  \n",
            "[ 2.99937823e-01  5.27016988e-05 -2.99984821e-01]\n",
            "##################\n",
            "--------------------\n",
            "for epoch: 5\n",
            "--------------------\n",
            "predicted value after forward pass: \n",
            "[1 1 1 1]\n",
            "error: \n",
            "0   -1\n",
            "1    0\n",
            "2    0\n",
            "3   -1\n",
            "Name: y, dtype: int64\n",
            "updated weights after epcohs: \n",
            "5/10 :  \n",
            "[-6.21773353e-05 -2.99947298e-01  3.00015179e-01]\n",
            "##################\n",
            "--------------------\n",
            "for epoch: 6\n",
            "--------------------\n",
            "predicted value after forward pass: \n",
            "[0 0 0 0]\n",
            "error: \n",
            "0    0\n",
            "1    1\n",
            "2    1\n",
            "3    0\n",
            "Name: y, dtype: int64\n",
            "updated weights after epcohs: \n",
            "6/10 :  \n",
            "[ 2.99937823e-01  5.27016988e-05 -2.99984821e-01]\n",
            "##################\n",
            "--------------------\n",
            "for epoch: 7\n",
            "--------------------\n",
            "predicted value after forward pass: \n",
            "[1 1 1 1]\n",
            "error: \n",
            "0   -1\n",
            "1    0\n",
            "2    0\n",
            "3   -1\n",
            "Name: y, dtype: int64\n",
            "updated weights after epcohs: \n",
            "7/10 :  \n",
            "[-6.21773353e-05 -2.99947298e-01  3.00015179e-01]\n",
            "##################\n",
            "--------------------\n",
            "for epoch: 8\n",
            "--------------------\n",
            "predicted value after forward pass: \n",
            "[0 0 0 0]\n",
            "error: \n",
            "0    0\n",
            "1    1\n",
            "2    1\n",
            "3    0\n",
            "Name: y, dtype: int64\n",
            "updated weights after epcohs: \n",
            "8/10 :  \n",
            "[ 2.99937823e-01  5.27016988e-05 -2.99984821e-01]\n",
            "##################\n",
            "--------------------\n",
            "for epoch: 9\n",
            "--------------------\n",
            "predicted value after forward pass: \n",
            "[1 1 1 1]\n",
            "error: \n",
            "0   -1\n",
            "1    0\n",
            "2    0\n",
            "3   -1\n",
            "Name: y, dtype: int64\n",
            "updated weights after epcohs: \n",
            "9/10 :  \n",
            "[-6.21773353e-05 -2.99947298e-01  3.00015179e-01]\n",
            "##################\n",
            "total loss: -2\n"
          ]
        }
      ]
    },
    {
      "cell_type": "markdown",
      "metadata": {
        "id": "StuufxNg2KGg"
      },
      "source": [
        "In the XOR how much ever epoch we try to run the total loss at the end will be there. Like the other models the prediction and actual error wont match. We can see how much the weights are getting updated there is error. We can see this error by plotting a graph."
      ]
    },
    {
      "cell_type": "code",
      "metadata": {
        "id": "nXeFMRttz9Fs"
      },
      "source": [
        "def save_plot(df,file_name,model):\n",
        "  def _create_base_plot(df):\n",
        "    df.plot(kind='scatter',x='x1',y='x2',c='y',s=100,cmap='winter')\n",
        "    plt.axhline(y=0,color='black',linestyle='--',linewidth=1)\n",
        "    plt.axvline(x=0,color='black',linestyle='--',linewidth=1) \n",
        "    figure = plt.gcf() # get current figure\n",
        "    figure.set_size_inches(10,8)\n",
        "\n",
        "\n",
        "\n",
        "  def _plot_decision_regions(X,y,classfier,resolution = 0.02):\n",
        "    colors = ('red','blue','lightgreen','yellow','cyan')\n",
        "    cmap = ListedColormap(colors[:len(np.unique(y))])\n",
        "\n",
        "    X = X.values #this is because we need the X values as array\n",
        "    x1 = X[:,0] # Take all the rows but the first column only\n",
        "    x2 = X[:,1] # Take all the rows but the 2nd column only\n",
        "    x1_min,x1_max = x1.min()-1,x1.max() + 1\n",
        "    x2_min,x2_max = x2.min()-1,x2.max() + 1\n",
        "\n",
        "    xx1,xx2 = np.meshgrid(np.arange(x1_min,x1_max,resolution),\n",
        "                          np.arange(x2_min,x2_max,resolution))\n",
        "    \n",
        "    print(xx1)\n",
        "    print(xx1.ravel())\n",
        "    \n",
        "    Z = classfier.predict(np.array([xx1.ravel(),xx2.ravel()]).T) \n",
        "    Z = Z.reshape(xx1.shape)\n",
        "    plt.contourf(xx1,xx2,Z,alpha=0.2,cmap=cmap)\n",
        "    plt.xlim(xx1.min(),xx1.max())\n",
        "    plt.xlim(xx2.min(),xx2.max()) \n",
        "\n",
        "    plt.plot()\n",
        "    \n",
        "  \n",
        "  X,y = prepare_data(df)\n",
        "  _create_base_plot(df)\n",
        "  _plot_decision_regions(X,y,model)\n",
        "\n",
        "  plot_dir = 'plots'\n",
        "  os.makedirs(plot_dir,exist_ok=True)\n",
        "  plotpath = os.path.join(plot_dir,file_name)\n",
        "  plt.savefig(plotpath)\n"
      ],
      "execution_count": 21,
      "outputs": []
    },
    {
      "cell_type": "code",
      "metadata": {
        "colab": {
          "base_uri": "https://localhost:8080/",
          "height": 175
        },
        "id": "UNFH9vuOuALN",
        "outputId": "dc61ac32-51b0-4b0f-a044-ad38a062623f"
      },
      "source": [
        "OR = {\n",
        "    'x1':[0,0,1,1],\n",
        "    'x2':[0,1,0,1],\n",
        "    'y':[0,1,1,1],\n",
        "}\n",
        "\n",
        "df = pd.DataFrame(OR)\n",
        "df"
      ],
      "execution_count": 22,
      "outputs": [
        {
          "output_type": "execute_result",
          "data": {
            "text/html": [
              "<div>\n",
              "<style scoped>\n",
              "    .dataframe tbody tr th:only-of-type {\n",
              "        vertical-align: middle;\n",
              "    }\n",
              "\n",
              "    .dataframe tbody tr th {\n",
              "        vertical-align: top;\n",
              "    }\n",
              "\n",
              "    .dataframe thead th {\n",
              "        text-align: right;\n",
              "    }\n",
              "</style>\n",
              "<table border=\"1\" class=\"dataframe\">\n",
              "  <thead>\n",
              "    <tr style=\"text-align: right;\">\n",
              "      <th></th>\n",
              "      <th>x1</th>\n",
              "      <th>x2</th>\n",
              "      <th>y</th>\n",
              "    </tr>\n",
              "  </thead>\n",
              "  <tbody>\n",
              "    <tr>\n",
              "      <th>0</th>\n",
              "      <td>0</td>\n",
              "      <td>0</td>\n",
              "      <td>0</td>\n",
              "    </tr>\n",
              "    <tr>\n",
              "      <th>1</th>\n",
              "      <td>0</td>\n",
              "      <td>1</td>\n",
              "      <td>1</td>\n",
              "    </tr>\n",
              "    <tr>\n",
              "      <th>2</th>\n",
              "      <td>1</td>\n",
              "      <td>0</td>\n",
              "      <td>1</td>\n",
              "    </tr>\n",
              "    <tr>\n",
              "      <th>3</th>\n",
              "      <td>1</td>\n",
              "      <td>1</td>\n",
              "      <td>1</td>\n",
              "    </tr>\n",
              "  </tbody>\n",
              "</table>\n",
              "</div>"
            ],
            "text/plain": [
              "   x1  x2  y\n",
              "0   0   0  0\n",
              "1   0   1  1\n",
              "2   1   0  1\n",
              "3   1   1  1"
            ]
          },
          "metadata": {},
          "execution_count": 22
        }
      ]
    },
    {
      "cell_type": "code",
      "metadata": {
        "colab": {
          "base_uri": "https://localhost:8080/"
        },
        "id": "lrXiikDSuATD",
        "outputId": "aeebea9d-e473-40c4-a69b-e907ac36409a"
      },
      "source": [
        "X,y = prepare_data(df)\n",
        "\n",
        "ETA = 0.3 # 0 and 1\n",
        "EPOCHS = 10\n",
        "\n",
        "model_OR = perceptron(eta=ETA, epochs=EPOCHS)\n",
        "model_OR.fit(X, y)\n",
        "\n",
        "_ = model_OR.total_loss()"
      ],
      "execution_count": 23,
      "outputs": [
        {
          "output_type": "stream",
          "name": "stdout",
          "text": [
            "Initial weights before training: \n",
            "[-1.13086529e-04 -1.06497677e-05  1.45782022e-04]\n",
            "X with bias:\n",
            " [[ 0.  0. -1.]\n",
            " [ 0.  1. -1.]\n",
            " [ 1.  0. -1.]\n",
            " [ 1.  1. -1.]]\n",
            "--------------------\n",
            "for epoch: 0\n",
            "--------------------\n",
            "predicted value after forward pass: \n",
            "[0 0 0 0]\n",
            "error: \n",
            "0    0\n",
            "1    1\n",
            "2    1\n",
            "3    1\n",
            "Name: y, dtype: int64\n",
            "updated weights after epcohs: \n",
            "0/10 :  \n",
            "[ 0.59988691  0.59998935 -0.89985422]\n",
            "##################\n",
            "--------------------\n",
            "for epoch: 1\n",
            "--------------------\n",
            "predicted value after forward pass: \n",
            "[1 1 1 1]\n",
            "error: \n",
            "0   -1\n",
            "1    0\n",
            "2    0\n",
            "3    0\n",
            "Name: y, dtype: int64\n",
            "updated weights after epcohs: \n",
            "1/10 :  \n",
            "[ 0.59988691  0.59998935 -0.59985422]\n",
            "##################\n",
            "--------------------\n",
            "for epoch: 2\n",
            "--------------------\n",
            "predicted value after forward pass: \n",
            "[1 1 1 1]\n",
            "error: \n",
            "0   -1\n",
            "1    0\n",
            "2    0\n",
            "3    0\n",
            "Name: y, dtype: int64\n",
            "updated weights after epcohs: \n",
            "2/10 :  \n",
            "[ 0.59988691  0.59998935 -0.29985422]\n",
            "##################\n",
            "--------------------\n",
            "for epoch: 3\n",
            "--------------------\n",
            "predicted value after forward pass: \n",
            "[1 1 1 1]\n",
            "error: \n",
            "0   -1\n",
            "1    0\n",
            "2    0\n",
            "3    0\n",
            "Name: y, dtype: int64\n",
            "updated weights after epcohs: \n",
            "3/10 :  \n",
            "[5.99886913e-01 5.99989350e-01 1.45782022e-04]\n",
            "##################\n",
            "--------------------\n",
            "for epoch: 4\n",
            "--------------------\n",
            "predicted value after forward pass: \n",
            "[0 1 1 1]\n",
            "error: \n",
            "0    0\n",
            "1    0\n",
            "2    0\n",
            "3    0\n",
            "Name: y, dtype: int64\n",
            "updated weights after epcohs: \n",
            "4/10 :  \n",
            "[5.99886913e-01 5.99989350e-01 1.45782022e-04]\n",
            "##################\n",
            "--------------------\n",
            "for epoch: 5\n",
            "--------------------\n",
            "predicted value after forward pass: \n",
            "[0 1 1 1]\n",
            "error: \n",
            "0    0\n",
            "1    0\n",
            "2    0\n",
            "3    0\n",
            "Name: y, dtype: int64\n",
            "updated weights after epcohs: \n",
            "5/10 :  \n",
            "[5.99886913e-01 5.99989350e-01 1.45782022e-04]\n",
            "##################\n",
            "--------------------\n",
            "for epoch: 6\n",
            "--------------------\n",
            "predicted value after forward pass: \n",
            "[0 1 1 1]\n",
            "error: \n",
            "0    0\n",
            "1    0\n",
            "2    0\n",
            "3    0\n",
            "Name: y, dtype: int64\n",
            "updated weights after epcohs: \n",
            "6/10 :  \n",
            "[5.99886913e-01 5.99989350e-01 1.45782022e-04]\n",
            "##################\n",
            "--------------------\n",
            "for epoch: 7\n",
            "--------------------\n",
            "predicted value after forward pass: \n",
            "[0 1 1 1]\n",
            "error: \n",
            "0    0\n",
            "1    0\n",
            "2    0\n",
            "3    0\n",
            "Name: y, dtype: int64\n",
            "updated weights after epcohs: \n",
            "7/10 :  \n",
            "[5.99886913e-01 5.99989350e-01 1.45782022e-04]\n",
            "##################\n",
            "--------------------\n",
            "for epoch: 8\n",
            "--------------------\n",
            "predicted value after forward pass: \n",
            "[0 1 1 1]\n",
            "error: \n",
            "0    0\n",
            "1    0\n",
            "2    0\n",
            "3    0\n",
            "Name: y, dtype: int64\n",
            "updated weights after epcohs: \n",
            "8/10 :  \n",
            "[5.99886913e-01 5.99989350e-01 1.45782022e-04]\n",
            "##################\n",
            "--------------------\n",
            "for epoch: 9\n",
            "--------------------\n",
            "predicted value after forward pass: \n",
            "[0 1 1 1]\n",
            "error: \n",
            "0    0\n",
            "1    0\n",
            "2    0\n",
            "3    0\n",
            "Name: y, dtype: int64\n",
            "updated weights after epcohs: \n",
            "9/10 :  \n",
            "[5.99886913e-01 5.99989350e-01 1.45782022e-04]\n",
            "##################\n",
            "total loss: 0\n"
          ]
        }
      ]
    },
    {
      "cell_type": "code",
      "metadata": {
        "id": "XEUHQ_P4z9Hz",
        "colab": {
          "base_uri": "https://localhost:8080/",
          "height": 681
        },
        "outputId": "c8d15614-a738-448a-dd49-28e1201400cf"
      },
      "source": [
        "save_plot(df,'OR.png',model_OR)"
      ],
      "execution_count": 24,
      "outputs": [
        {
          "output_type": "stream",
          "name": "stdout",
          "text": [
            "[[-1.   -0.98 -0.96 ...  1.94  1.96  1.98]\n",
            " [-1.   -0.98 -0.96 ...  1.94  1.96  1.98]\n",
            " [-1.   -0.98 -0.96 ...  1.94  1.96  1.98]\n",
            " ...\n",
            " [-1.   -0.98 -0.96 ...  1.94  1.96  1.98]\n",
            " [-1.   -0.98 -0.96 ...  1.94  1.96  1.98]\n",
            " [-1.   -0.98 -0.96 ...  1.94  1.96  1.98]]\n",
            "[-1.   -0.98 -0.96 ...  1.94  1.96  1.98]\n"
          ]
        },
        {
          "output_type": "display_data",
          "data": {
            "image/png": "[encoded data removed]",
            "text/plain": [
              "<Figure size 720x576 with 2 Axes>"
            ]
          },
          "metadata": {}
        }
      ]
    },
    {
      "cell_type": "code",
      "metadata": {
        "colab": {
          "base_uri": "https://localhost:8080/",
          "height": 175
        },
        "id": "5Su_Bq-b6P6y",
        "outputId": "fb284e33-3614-4855-b234-45a6de950a79"
      },
      "source": [
        "AND = {\n",
        "    'x1':[0,0,1,1],\n",
        "    'x2':[0,1,0,1],\n",
        "    'y':[0,0,0,1],\n",
        "}\n",
        "\n",
        "df = pd.DataFrame(AND)\n",
        "df\n"
      ],
      "execution_count": 25,
      "outputs": [
        {
          "output_type": "execute_result",
          "data": {
            "text/html": [
              "<div>\n",
              "<style scoped>\n",
              "    .dataframe tbody tr th:only-of-type {\n",
              "        vertical-align: middle;\n",
              "    }\n",
              "\n",
              "    .dataframe tbody tr th {\n",
              "        vertical-align: top;\n",
              "    }\n",
              "\n",
              "    .dataframe thead th {\n",
              "        text-align: right;\n",
              "    }\n",
              "</style>\n",
              "<table border=\"1\" class=\"dataframe\">\n",
              "  <thead>\n",
              "    <tr style=\"text-align: right;\">\n",
              "      <th></th>\n",
              "      <th>x1</th>\n",
              "      <th>x2</th>\n",
              "      <th>y</th>\n",
              "    </tr>\n",
              "  </thead>\n",
              "  <tbody>\n",
              "    <tr>\n",
              "      <th>0</th>\n",
              "      <td>0</td>\n",
              "      <td>0</td>\n",
              "      <td>0</td>\n",
              "    </tr>\n",
              "    <tr>\n",
              "      <th>1</th>\n",
              "      <td>0</td>\n",
              "      <td>1</td>\n",
              "      <td>0</td>\n",
              "    </tr>\n",
              "    <tr>\n",
              "      <th>2</th>\n",
              "      <td>1</td>\n",
              "      <td>0</td>\n",
              "      <td>0</td>\n",
              "    </tr>\n",
              "    <tr>\n",
              "      <th>3</th>\n",
              "      <td>1</td>\n",
              "      <td>1</td>\n",
              "      <td>1</td>\n",
              "    </tr>\n",
              "  </tbody>\n",
              "</table>\n",
              "</div>"
            ],
            "text/plain": [
              "   x1  x2  y\n",
              "0   0   0  0\n",
              "1   0   1  0\n",
              "2   1   0  0\n",
              "3   1   1  1"
            ]
          },
          "metadata": {},
          "execution_count": 25
        }
      ]
    },
    {
      "cell_type": "code",
      "metadata": {
        "colab": {
          "base_uri": "https://localhost:8080/"
        },
        "id": "uDbvU7B76XHA",
        "outputId": "b64dcb36-6e23-4a54-ad18-ebeeed65b460"
      },
      "source": [
        "X,y = prepare_data(df)\n",
        "\n",
        "ETA = 0.3 # 0 and 1\n",
        "EPOCHS = 10\n",
        "\n",
        "model_AND = perceptron(eta=ETA, epochs=EPOCHS)\n",
        "model_AND.fit(X, y)\n",
        "\n",
        "_ = model_AND.total_loss()"
      ],
      "execution_count": 26,
      "outputs": [
        {
          "output_type": "stream",
          "name": "stdout",
          "text": [
            "Initial weights before training: \n",
            "[ 1.54147720e-04 -1.40069511e-04  1.50970966e-05]\n",
            "X with bias:\n",
            " [[ 0.  0. -1.]\n",
            " [ 0.  1. -1.]\n",
            " [ 1.  0. -1.]\n",
            " [ 1.  1. -1.]]\n",
            "--------------------\n",
            "for epoch: 0\n",
            "--------------------\n",
            "predicted value after forward pass: \n",
            "[0 0 1 0]\n",
            "error: \n",
            "0    0\n",
            "1    0\n",
            "2   -1\n",
            "3    1\n",
            "Name: y, dtype: int64\n",
            "updated weights after epcohs: \n",
            "0/10 :  \n",
            "[1.54147720e-04 2.99859930e-01 1.50970966e-05]\n",
            "##################\n",
            "--------------------\n",
            "for epoch: 1\n",
            "--------------------\n",
            "predicted value after forward pass: \n",
            "[0 1 1 1]\n",
            "error: \n",
            "0    0\n",
            "1   -1\n",
            "2   -1\n",
            "3    0\n",
            "Name: y, dtype: int64\n",
            "updated weights after epcohs: \n",
            "1/10 :  \n",
            "[-2.99845852e-01 -1.40069511e-04  6.00015097e-01]\n",
            "##################\n",
            "--------------------\n",
            "for epoch: 2\n",
            "--------------------\n",
            "predicted value after forward pass: \n",
            "[0 0 0 0]\n",
            "error: \n",
            "0    0\n",
            "1    0\n",
            "2    0\n",
            "3    1\n",
            "Name: y, dtype: int64\n",
            "updated weights after epcohs: \n",
            "2/10 :  \n",
            "[1.54147720e-04 2.99859930e-01 3.00015097e-01]\n",
            "##################\n",
            "--------------------\n",
            "for epoch: 3\n",
            "--------------------\n",
            "predicted value after forward pass: \n",
            "[0 0 0 0]\n",
            "error: \n",
            "0    0\n",
            "1    0\n",
            "2    0\n",
            "3    1\n",
            "Name: y, dtype: int64\n",
            "updated weights after epcohs: \n",
            "3/10 :  \n",
            "[3.00154148e-01 5.99859930e-01 1.50970966e-05]\n",
            "##################\n",
            "--------------------\n",
            "for epoch: 4\n",
            "--------------------\n",
            "predicted value after forward pass: \n",
            "[0 1 1 1]\n",
            "error: \n",
            "0    0\n",
            "1   -1\n",
            "2   -1\n",
            "3    0\n",
            "Name: y, dtype: int64\n",
            "updated weights after epcohs: \n",
            "4/10 :  \n",
            "[1.54147720e-04 2.99859930e-01 6.00015097e-01]\n",
            "##################\n",
            "--------------------\n",
            "for epoch: 5\n",
            "--------------------\n",
            "predicted value after forward pass: \n",
            "[0 0 0 0]\n",
            "error: \n",
            "0    0\n",
            "1    0\n",
            "2    0\n",
            "3    1\n",
            "Name: y, dtype: int64\n",
            "updated weights after epcohs: \n",
            "5/10 :  \n",
            "[0.30015415 0.59985993 0.3000151 ]\n",
            "##################\n",
            "--------------------\n",
            "for epoch: 6\n",
            "--------------------\n",
            "predicted value after forward pass: \n",
            "[0 1 1 1]\n",
            "error: \n",
            "0    0\n",
            "1   -1\n",
            "2   -1\n",
            "3    0\n",
            "Name: y, dtype: int64\n",
            "updated weights after epcohs: \n",
            "6/10 :  \n",
            "[1.54147720e-04 2.99859930e-01 9.00015097e-01]\n",
            "##################\n",
            "--------------------\n",
            "for epoch: 7\n",
            "--------------------\n",
            "predicted value after forward pass: \n",
            "[0 0 0 0]\n",
            "error: \n",
            "0    0\n",
            "1    0\n",
            "2    0\n",
            "3    1\n",
            "Name: y, dtype: int64\n",
            "updated weights after epcohs: \n",
            "7/10 :  \n",
            "[0.30015415 0.59985993 0.6000151 ]\n",
            "##################\n",
            "--------------------\n",
            "for epoch: 8\n",
            "--------------------\n",
            "predicted value after forward pass: \n",
            "[0 0 0 1]\n",
            "error: \n",
            "0    0\n",
            "1    0\n",
            "2    0\n",
            "3    0\n",
            "Name: y, dtype: int64\n",
            "updated weights after epcohs: \n",
            "8/10 :  \n",
            "[0.30015415 0.59985993 0.6000151 ]\n",
            "##################\n",
            "--------------------\n",
            "for epoch: 9\n",
            "--------------------\n",
            "predicted value after forward pass: \n",
            "[0 0 0 1]\n",
            "error: \n",
            "0    0\n",
            "1    0\n",
            "2    0\n",
            "3    0\n",
            "Name: y, dtype: int64\n",
            "updated weights after epcohs: \n",
            "9/10 :  \n",
            "[0.30015415 0.59985993 0.6000151 ]\n",
            "##################\n",
            "total loss: 0\n"
          ]
        }
      ]
    },
    {
      "cell_type": "code",
      "metadata": {
        "colab": {
          "base_uri": "https://localhost:8080/",
          "height": 681
        },
        "id": "_C8tDTZL6lq1",
        "outputId": "ad12b8e7-1ee8-4bbd-cdda-6a3c446ce857"
      },
      "source": [
        "save_plot(df,'AND.png',model_AND)"
      ],
      "execution_count": 27,
      "outputs": [
        {
          "output_type": "stream",
          "name": "stdout",
          "text": [
            "[[-1.   -0.98 -0.96 ...  1.94  1.96  1.98]\n",
            " [-1.   -0.98 -0.96 ...  1.94  1.96  1.98]\n",
            " [-1.   -0.98 -0.96 ...  1.94  1.96  1.98]\n",
            " ...\n",
            " [-1.   -0.98 -0.96 ...  1.94  1.96  1.98]\n",
            " [-1.   -0.98 -0.96 ...  1.94  1.96  1.98]\n",
            " [-1.   -0.98 -0.96 ...  1.94  1.96  1.98]]\n",
            "[-1.   -0.98 -0.96 ...  1.94  1.96  1.98]\n"
          ]
        },
        {
          "output_type": "display_data",
          "data": {
            "image/png": "[encoded data removed]",
            "text/plain": [
              "<Figure size 720x576 with 2 Axes>"
            ]
          },
          "metadata": {}
        }
      ]
    },
    {
      "cell_type": "code",
      "metadata": {
        "id": "pcypkS4H9ER5"
      },
      "source": [
        ""
      ],
      "execution_count": 27,
      "outputs": []
    },
    {
      "cell_type": "code",
      "metadata": {
        "colab": {
          "base_uri": "https://localhost:8080/",
          "height": 175
        },
        "id": "uA8oa-tM9EU9",
        "outputId": "57d5efd3-3c83-4852-f872-0f909c2b8b76"
      },
      "source": [
        "XOR = {\n",
        "    'x1':[0,0,1,1],\n",
        "    'x2':[0,1,0,1],\n",
        "    'y':[0,1,1,0],\n",
        "}\n",
        "\n",
        "df = pd.DataFrame(XOR)\n",
        "df"
      ],
      "execution_count": 28,
      "outputs": [
        {
          "output_type": "execute_result",
          "data": {
            "text/html": [
              "<div>\n",
              "<style scoped>\n",
              "    .dataframe tbody tr th:only-of-type {\n",
              "        vertical-align: middle;\n",
              "    }\n",
              "\n",
              "    .dataframe tbody tr th {\n",
              "        vertical-align: top;\n",
              "    }\n",
              "\n",
              "    .dataframe thead th {\n",
              "        text-align: right;\n",
              "    }\n",
              "</style>\n",
              "<table border=\"1\" class=\"dataframe\">\n",
              "  <thead>\n",
              "    <tr style=\"text-align: right;\">\n",
              "      <th></th>\n",
              "      <th>x1</th>\n",
              "      <th>x2</th>\n",
              "      <th>y</th>\n",
              "    </tr>\n",
              "  </thead>\n",
              "  <tbody>\n",
              "    <tr>\n",
              "      <th>0</th>\n",
              "      <td>0</td>\n",
              "      <td>0</td>\n",
              "      <td>0</td>\n",
              "    </tr>\n",
              "    <tr>\n",
              "      <th>1</th>\n",
              "      <td>0</td>\n",
              "      <td>1</td>\n",
              "      <td>1</td>\n",
              "    </tr>\n",
              "    <tr>\n",
              "      <th>2</th>\n",
              "      <td>1</td>\n",
              "      <td>0</td>\n",
              "      <td>1</td>\n",
              "    </tr>\n",
              "    <tr>\n",
              "      <th>3</th>\n",
              "      <td>1</td>\n",
              "      <td>1</td>\n",
              "      <td>0</td>\n",
              "    </tr>\n",
              "  </tbody>\n",
              "</table>\n",
              "</div>"
            ],
            "text/plain": [
              "   x1  x2  y\n",
              "0   0   0  0\n",
              "1   0   1  1\n",
              "2   1   0  1\n",
              "3   1   1  0"
            ]
          },
          "metadata": {},
          "execution_count": 28
        }
      ]
    },
    {
      "cell_type": "code",
      "metadata": {
        "colab": {
          "base_uri": "https://localhost:8080/"
        },
        "id": "YD2Q6S1s9EXj",
        "outputId": "7e64a964-759f-41cc-bb6d-11ad5e7e9a46"
      },
      "source": [
        "X,y = prepare_data(df)\n",
        "\n",
        "ETA = 0.3 # 0 and 1\n",
        "EPOCHS = 10\n",
        "\n",
        "model_XOR = perceptron(eta=ETA, epochs=EPOCHS)\n",
        "model_XOR.fit(X, y)\n",
        "\n",
        "_ = model_XOR.total_loss()"
      ],
      "execution_count": 29,
      "outputs": [
        {
          "output_type": "stream",
          "name": "stdout",
          "text": [
            "Initial weights before training: \n",
            "[ 3.19897014e-05 -2.25717511e-05  5.44274945e-06]\n",
            "X with bias:\n",
            " [[ 0.  0. -1.]\n",
            " [ 0.  1. -1.]\n",
            " [ 1.  0. -1.]\n",
            " [ 1.  1. -1.]]\n",
            "--------------------\n",
            "for epoch: 0\n",
            "--------------------\n",
            "predicted value after forward pass: \n",
            "[0 0 1 1]\n",
            "error: \n",
            "0    0\n",
            "1    1\n",
            "2    0\n",
            "3   -1\n",
            "Name: y, dtype: int64\n",
            "updated weights after epcohs: \n",
            "0/10 :  \n",
            "[-2.99968010e-01 -2.25717511e-05  5.44274945e-06]\n",
            "##################\n",
            "--------------------\n",
            "for epoch: 1\n",
            "--------------------\n",
            "predicted value after forward pass: \n",
            "[0 0 0 0]\n",
            "error: \n",
            "0    0\n",
            "1    1\n",
            "2    1\n",
            "3    0\n",
            "Name: y, dtype: int64\n",
            "updated weights after epcohs: \n",
            "1/10 :  \n",
            "[ 3.19897014e-05  2.99977428e-01 -5.99994557e-01]\n",
            "##################\n",
            "--------------------\n",
            "for epoch: 2\n",
            "--------------------\n",
            "predicted value after forward pass: \n",
            "[1 1 1 1]\n",
            "error: \n",
            "0   -1\n",
            "1    0\n",
            "2    0\n",
            "3   -1\n",
            "Name: y, dtype: int64\n",
            "updated weights after epcohs: \n",
            "2/10 :  \n",
            "[-2.99968010e-01 -2.25717511e-05  5.44274945e-06]\n",
            "##################\n",
            "--------------------\n",
            "for epoch: 3\n",
            "--------------------\n",
            "predicted value after forward pass: \n",
            "[0 0 0 0]\n",
            "error: \n",
            "0    0\n",
            "1    1\n",
            "2    1\n",
            "3    0\n",
            "Name: y, dtype: int64\n",
            "updated weights after epcohs: \n",
            "3/10 :  \n",
            "[ 3.19897014e-05  2.99977428e-01 -5.99994557e-01]\n",
            "##################\n",
            "--------------------\n",
            "for epoch: 4\n",
            "--------------------\n",
            "predicted value after forward pass: \n",
            "[1 1 1 1]\n",
            "error: \n",
            "0   -1\n",
            "1    0\n",
            "2    0\n",
            "3   -1\n",
            "Name: y, dtype: int64\n",
            "updated weights after epcohs: \n",
            "4/10 :  \n",
            "[-2.99968010e-01 -2.25717511e-05  5.44274945e-06]\n",
            "##################\n",
            "--------------------\n",
            "for epoch: 5\n",
            "--------------------\n",
            "predicted value after forward pass: \n",
            "[0 0 0 0]\n",
            "error: \n",
            "0    0\n",
            "1    1\n",
            "2    1\n",
            "3    0\n",
            "Name: y, dtype: int64\n",
            "updated weights after epcohs: \n",
            "5/10 :  \n",
            "[ 3.19897014e-05  2.99977428e-01 -5.99994557e-01]\n",
            "##################\n",
            "--------------------\n",
            "for epoch: 6\n",
            "--------------------\n",
            "predicted value after forward pass: \n",
            "[1 1 1 1]\n",
            "error: \n",
            "0   -1\n",
            "1    0\n",
            "2    0\n",
            "3   -1\n",
            "Name: y, dtype: int64\n",
            "updated weights after epcohs: \n",
            "6/10 :  \n",
            "[-2.99968010e-01 -2.25717511e-05  5.44274945e-06]\n",
            "##################\n",
            "--------------------\n",
            "for epoch: 7\n",
            "--------------------\n",
            "predicted value after forward pass: \n",
            "[0 0 0 0]\n",
            "error: \n",
            "0    0\n",
            "1    1\n",
            "2    1\n",
            "3    0\n",
            "Name: y, dtype: int64\n",
            "updated weights after epcohs: \n",
            "7/10 :  \n",
            "[ 3.19897014e-05  2.99977428e-01 -5.99994557e-01]\n",
            "##################\n",
            "--------------------\n",
            "for epoch: 8\n",
            "--------------------\n",
            "predicted value after forward pass: \n",
            "[1 1 1 1]\n",
            "error: \n",
            "0   -1\n",
            "1    0\n",
            "2    0\n",
            "3   -1\n",
            "Name: y, dtype: int64\n",
            "updated weights after epcohs: \n",
            "8/10 :  \n",
            "[-2.99968010e-01 -2.25717511e-05  5.44274945e-06]\n",
            "##################\n",
            "--------------------\n",
            "for epoch: 9\n",
            "--------------------\n",
            "predicted value after forward pass: \n",
            "[0 0 0 0]\n",
            "error: \n",
            "0    0\n",
            "1    1\n",
            "2    1\n",
            "3    0\n",
            "Name: y, dtype: int64\n",
            "updated weights after epcohs: \n",
            "9/10 :  \n",
            "[ 3.19897014e-05  2.99977428e-01 -5.99994557e-01]\n",
            "##################\n",
            "total loss: 2\n"
          ]
        }
      ]
    },
    {
      "cell_type": "code",
      "metadata": {
        "colab": {
          "base_uri": "https://localhost:8080/",
          "height": 681
        },
        "id": "qFDenOXv9EaA",
        "outputId": "7c618dec-7325-4e05-a06e-c74b4082d592"
      },
      "source": [
        "save_plot(df,'XOR.png',model_XOR)"
      ],
      "execution_count": 30,
      "outputs": [
        {
          "output_type": "stream",
          "name": "stdout",
          "text": [
            "[[-1.   -0.98 -0.96 ...  1.94  1.96  1.98]\n",
            " [-1.   -0.98 -0.96 ...  1.94  1.96  1.98]\n",
            " [-1.   -0.98 -0.96 ...  1.94  1.96  1.98]\n",
            " ...\n",
            " [-1.   -0.98 -0.96 ...  1.94  1.96  1.98]\n",
            " [-1.   -0.98 -0.96 ...  1.94  1.96  1.98]\n",
            " [-1.   -0.98 -0.96 ...  1.94  1.96  1.98]]\n",
            "[-1.   -0.98 -0.96 ...  1.94  1.96  1.98]\n"
          ]
        },
        {
          "output_type": "display_data",
          "data": {
            "image/png": "[encoded data removed]",
            "text/plain": [
              "<Figure size 720x576 with 2 Axes>"
            ]
          },
          "metadata": {}
        }
      ]
    },
    {
      "cell_type": "markdown",
      "metadata": {
        "id": "kmLUV0Jg9vQX"
      },
      "source": [
        "We can see that in the XOR we cannot seperate the two data points with a line. This is where the perceptron is failing. In the AND and OR we can seperate the data points with a linear line but not in XOR. XOR is not linear. "
      ]
    },
    {
      "cell_type": "markdown",
      "metadata": {
        "id": "jdsoN-nm99rc"
      },
      "source": [
        "**NAND**"
      ]
    },
    {
      "cell_type": "code",
      "metadata": {
        "id": "-p4d_aeBA5Hy",
        "colab": {
          "base_uri": "https://localhost:8080/",
          "height": 175
        },
        "outputId": "97d3d1c1-af96-4bbb-bbde-8fea13b1e4c3"
      },
      "source": [
        "NAND = {\n",
        "    'x1':[0,0,1,1],\n",
        "    'x2':[0,1,0,1],\n",
        "    'y':[1,1,1,0],\n",
        "}\n",
        "\n",
        "df = pd.DataFrame(NAND)\n",
        "df"
      ],
      "execution_count": 31,
      "outputs": [
        {
          "output_type": "execute_result",
          "data": {
            "text/html": [
              "<div>\n",
              "<style scoped>\n",
              "    .dataframe tbody tr th:only-of-type {\n",
              "        vertical-align: middle;\n",
              "    }\n",
              "\n",
              "    .dataframe tbody tr th {\n",
              "        vertical-align: top;\n",
              "    }\n",
              "\n",
              "    .dataframe thead th {\n",
              "        text-align: right;\n",
              "    }\n",
              "</style>\n",
              "<table border=\"1\" class=\"dataframe\">\n",
              "  <thead>\n",
              "    <tr style=\"text-align: right;\">\n",
              "      <th></th>\n",
              "      <th>x1</th>\n",
              "      <th>x2</th>\n",
              "      <th>y</th>\n",
              "    </tr>\n",
              "  </thead>\n",
              "  <tbody>\n",
              "    <tr>\n",
              "      <th>0</th>\n",
              "      <td>0</td>\n",
              "      <td>0</td>\n",
              "      <td>1</td>\n",
              "    </tr>\n",
              "    <tr>\n",
              "      <th>1</th>\n",
              "      <td>0</td>\n",
              "      <td>1</td>\n",
              "      <td>1</td>\n",
              "    </tr>\n",
              "    <tr>\n",
              "      <th>2</th>\n",
              "      <td>1</td>\n",
              "      <td>0</td>\n",
              "      <td>1</td>\n",
              "    </tr>\n",
              "    <tr>\n",
              "      <th>3</th>\n",
              "      <td>1</td>\n",
              "      <td>1</td>\n",
              "      <td>0</td>\n",
              "    </tr>\n",
              "  </tbody>\n",
              "</table>\n",
              "</div>"
            ],
            "text/plain": [
              "   x1  x2  y\n",
              "0   0   0  1\n",
              "1   0   1  1\n",
              "2   1   0  1\n",
              "3   1   1  0"
            ]
          },
          "metadata": {},
          "execution_count": 31
        }
      ]
    },
    {
      "cell_type": "code",
      "metadata": {
        "colab": {
          "base_uri": "https://localhost:8080/"
        },
        "id": "J8qrJDycBUGA",
        "outputId": "1c08bfbc-c134-4204-f4d8-4a5a769ca883"
      },
      "source": [
        "X,y = prepare_data(df)\n",
        "\n",
        "ETA = 0.3 # 0 and 1\n",
        "EPOCHS = 10\n",
        "\n",
        "model_NAND = perceptron(eta=ETA, epochs=EPOCHS)\n",
        "model_NAND.fit(X, y)\n",
        "\n",
        "_ = model_NAND.total_loss()"
      ],
      "execution_count": 32,
      "outputs": [
        {
          "output_type": "stream",
          "name": "stdout",
          "text": [
            "Initial weights before training: \n",
            "[ 9.42257051e-05 -5.17823120e-05  3.63495118e-05]\n",
            "X with bias:\n",
            " [[ 0.  0. -1.]\n",
            " [ 0.  1. -1.]\n",
            " [ 1.  0. -1.]\n",
            " [ 1.  1. -1.]]\n",
            "--------------------\n",
            "for epoch: 0\n",
            "--------------------\n",
            "predicted value after forward pass: \n",
            "[0 0 1 1]\n",
            "error: \n",
            "0    1\n",
            "1    1\n",
            "2    0\n",
            "3   -1\n",
            "Name: y, dtype: int64\n",
            "updated weights after epcohs: \n",
            "0/10 :  \n",
            "[-2.99905774e-01 -5.17823120e-05 -2.99963650e-01]\n",
            "##################\n",
            "--------------------\n",
            "for epoch: 1\n",
            "--------------------\n",
            "predicted value after forward pass: \n",
            "[1 1 1 1]\n",
            "error: \n",
            "0    0\n",
            "1    0\n",
            "2    0\n",
            "3   -1\n",
            "Name: y, dtype: int64\n",
            "updated weights after epcohs: \n",
            "1/10 :  \n",
            "[-5.99905774e-01 -3.00051782e-01  3.63495118e-05]\n",
            "##################\n",
            "--------------------\n",
            "for epoch: 2\n",
            "--------------------\n",
            "predicted value after forward pass: \n",
            "[0 0 0 0]\n",
            "error: \n",
            "0    1\n",
            "1    1\n",
            "2    1\n",
            "3    0\n",
            "Name: y, dtype: int64\n",
            "updated weights after epcohs: \n",
            "2/10 :  \n",
            "[-2.99905774e-01 -5.17823120e-05 -8.99963650e-01]\n",
            "##################\n",
            "--------------------\n",
            "for epoch: 3\n",
            "--------------------\n",
            "predicted value after forward pass: \n",
            "[1 1 1 1]\n",
            "error: \n",
            "0    0\n",
            "1    0\n",
            "2    0\n",
            "3   -1\n",
            "Name: y, dtype: int64\n",
            "updated weights after epcohs: \n",
            "3/10 :  \n",
            "[-0.59990577 -0.30005178 -0.59996365]\n",
            "##################\n",
            "--------------------\n",
            "for epoch: 4\n",
            "--------------------\n",
            "predicted value after forward pass: \n",
            "[1 1 1 0]\n",
            "error: \n",
            "0    0\n",
            "1    0\n",
            "2    0\n",
            "3    0\n",
            "Name: y, dtype: int64\n",
            "updated weights after epcohs: \n",
            "4/10 :  \n",
            "[-0.59990577 -0.30005178 -0.59996365]\n",
            "##################\n",
            "--------------------\n",
            "for epoch: 5\n",
            "--------------------\n",
            "predicted value after forward pass: \n",
            "[1 1 1 0]\n",
            "error: \n",
            "0    0\n",
            "1    0\n",
            "2    0\n",
            "3    0\n",
            "Name: y, dtype: int64\n",
            "updated weights after epcohs: \n",
            "5/10 :  \n",
            "[-0.59990577 -0.30005178 -0.59996365]\n",
            "##################\n",
            "--------------------\n",
            "for epoch: 6\n",
            "--------------------\n",
            "predicted value after forward pass: \n",
            "[1 1 1 0]\n",
            "error: \n",
            "0    0\n",
            "1    0\n",
            "2    0\n",
            "3    0\n",
            "Name: y, dtype: int64\n",
            "updated weights after epcohs: \n",
            "6/10 :  \n",
            "[-0.59990577 -0.30005178 -0.59996365]\n",
            "##################\n",
            "--------------------\n",
            "for epoch: 7\n",
            "--------------------\n",
            "predicted value after forward pass: \n",
            "[1 1 1 0]\n",
            "error: \n",
            "0    0\n",
            "1    0\n",
            "2    0\n",
            "3    0\n",
            "Name: y, dtype: int64\n",
            "updated weights after epcohs: \n",
            "7/10 :  \n",
            "[-0.59990577 -0.30005178 -0.59996365]\n",
            "##################\n",
            "--------------------\n",
            "for epoch: 8\n",
            "--------------------\n",
            "predicted value after forward pass: \n",
            "[1 1 1 0]\n",
            "error: \n",
            "0    0\n",
            "1    0\n",
            "2    0\n",
            "3    0\n",
            "Name: y, dtype: int64\n",
            "updated weights after epcohs: \n",
            "8/10 :  \n",
            "[-0.59990577 -0.30005178 -0.59996365]\n",
            "##################\n",
            "--------------------\n",
            "for epoch: 9\n",
            "--------------------\n",
            "predicted value after forward pass: \n",
            "[1 1 1 0]\n",
            "error: \n",
            "0    0\n",
            "1    0\n",
            "2    0\n",
            "3    0\n",
            "Name: y, dtype: int64\n",
            "updated weights after epcohs: \n",
            "9/10 :  \n",
            "[-0.59990577 -0.30005178 -0.59996365]\n",
            "##################\n",
            "total loss: 0\n"
          ]
        }
      ]
    },
    {
      "cell_type": "code",
      "metadata": {
        "colab": {
          "base_uri": "https://localhost:8080/",
          "height": 681
        },
        "id": "Qa1AQvC9BUIl",
        "outputId": "7ad236d1-dfde-4c81-f0f1-cf0dfa8f4fe8"
      },
      "source": [
        "save_plot(df,'NAND.png',model_NAND)"
      ],
      "execution_count": 33,
      "outputs": [
        {
          "output_type": "stream",
          "name": "stdout",
          "text": [
            "[[-1.   -0.98 -0.96 ...  1.94  1.96  1.98]\n",
            " [-1.   -0.98 -0.96 ...  1.94  1.96  1.98]\n",
            " [-1.   -0.98 -0.96 ...  1.94  1.96  1.98]\n",
            " ...\n",
            " [-1.   -0.98 -0.96 ...  1.94  1.96  1.98]\n",
            " [-1.   -0.98 -0.96 ...  1.94  1.96  1.98]\n",
            " [-1.   -0.98 -0.96 ...  1.94  1.96  1.98]]\n",
            "[-1.   -0.98 -0.96 ...  1.94  1.96  1.98]\n"
          ]
        },
        {
          "output_type": "display_data",
          "data": {
            "image/png": "[encoded data removed]",
            "text/plain": [
              "<Figure size 720x576 with 2 Axes>"
            ]
          },
          "metadata": {}
        }
      ]
    },
    {
      "cell_type": "code",
      "metadata": {
        "id": "Ku8bfuuiBUNB"
      },
      "source": [
        ""
      ],
      "execution_count": 33,
      "outputs": []
    }
  ]
}